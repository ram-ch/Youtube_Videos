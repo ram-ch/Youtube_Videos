{
 "cells": [
  {
   "cell_type": "markdown",
   "id": "dce83dca",
   "metadata": {},
   "source": [
    "# Introduction:   \n",
    "In this notebook we will look at Custom Named Entity Recognition with GPT 3.5 turbo model.  \n",
    "Data source: https://www.kaggle.com/datasets/finalepoch/medical-ner   \n",
    "The data contains entities with annotations."
   ]
  },
  {
   "cell_type": "code",
   "execution_count": 66,
   "id": "a627b077",
   "metadata": {},
   "outputs": [],
   "source": [
    "import json\n",
    "import pandas as pd"
   ]
  },
  {
   "cell_type": "code",
   "execution_count": 67,
   "id": "28b0907d",
   "metadata": {},
   "outputs": [],
   "source": [
    "# Load the data\n",
    "with open('Corona2.json', 'r') as f:\n",
    "    data = json.load(f)"
   ]
  },
  {
   "cell_type": "code",
   "execution_count": 68,
   "id": "c3f289e7",
   "metadata": {},
   "outputs": [
    {
     "name": "stdout",
     "output_type": "stream",
     "text": [
      "----------------------------------------------------------------------------------------------------\n",
      " Id: 18c2f619-f102-452f-ab81-d26f7e283ffe\n",
      "----------------------------------------------------------------------------------------------------\n",
      "While bismuth compounds (Pepto-Bismol) decreased the number of bowel movements in those with travelers' diarrhea, they do not decrease the length of illness.[91] Anti-motility agents like loperamide are also effective at reducing the number of stools but not the duration of disease.[8] These agents should be used only if bloody diarrhea is not present.[92]\n",
      "\n",
      "Diosmectite, a natural aluminomagnesium silicate clay, is effective in alleviating symptoms of acute diarrhea in children,[93] and also has some effects in chronic functional diarrhea, radiation-induced diarrhea, and chemotherapy-induced diarrhea.[45] Another absorbent agent used for the treatment of mild diarrhea is kaopectate.\n",
      "\n",
      "Racecadotril an antisecretory medication may be used to treat diarrhea in children and adults.[86] It has better tolerability than loperamide, as it causes less constipation and flatulence.[94]\n",
      "----------------------------------------------------------------------------------------------------\n",
      "Medicine : Diosmectite \n",
      "Medicine : aluminomagnesium silicate \n",
      "MedicalCondition : diarrhea \n",
      "Medicine : kaopectate \n",
      "Medicine : bismuth compounds \n",
      "Medicine : Pepto-Bismol \n",
      "MedicalCondition : diarrhea  \n",
      "Medicine : chemotherapy \n",
      "MedicalCondition : constipation \n",
      "Medicine : loperamide \n",
      "MedicalCondition : diarrhea \n",
      "MedicalCondition : flatulence \n",
      "Medicine : loperamide \n",
      "MedicalCondition :   \n",
      "MedicalCondition : diarrhea \n",
      "MedicalCondition : diarrhea \n",
      "Medicine : Racecadotril \n",
      "MedicalCondition : diarrhea \n",
      "----------------------------------------------------------------------------------------------------\n"
     ]
    }
   ],
   "source": [
    "# 1 example Id and its annotation\n",
    "print(\"-\"*100)\n",
    "print(f\" Id: {data['examples'][0]['id'] }\") \n",
    "print(\"-\"*100)\n",
    "print(data['examples'][0]['content'])\n",
    "print(\"-\"*100)\n",
    "# Annotations of the first Id\n",
    "for anno in data['examples'][0]['annotations']:\n",
    "    print(f\"{anno['tag_name']} : {anno['value']} \")\n",
    "print(\"-\"*100)"
   ]
  },
  {
   "cell_type": "code",
   "execution_count": 69,
   "id": "42442879",
   "metadata": {},
   "outputs": [
    {
     "name": "stdout",
     "output_type": "stream",
     "text": [
      "['Pathogen', 'Medicine', 'MedicalCondition']\n"
     ]
    }
   ],
   "source": [
    "# list of all entities\n",
    "entities=[]\n",
    "for i in range(len(data['examples'])):\n",
    "    if i==3:\n",
    "        continue\n",
    "    for anno in data['examples'][i]['annotations']:\n",
    "        entities.append(anno['tag_name'])\n",
    "entities=list(set(entities))\n",
    "print(entities)"
   ]
  },
  {
   "cell_type": "code",
   "execution_count": 89,
   "id": "a172a15a",
   "metadata": {},
   "outputs": [
    {
     "name": "stdout",
     "output_type": "stream",
     "text": [
      "----------------------------------------------------------------------------------------------------\n",
      " Id: 487c93e3-0d45-4088-a378-cf3a01c8953d\n",
      "----------------------------------------------------------------------------------------------------\n",
      "Diarrhea, also spelled diarrhoea, is the condition of having at least three loose, liquid, or watery bowel movements each day.[2] It often lasts for a few days and can result in dehydration due to fluid loss.[2] Signs of dehydration often begin with loss of the normal stretchiness of the skin and irritable behaviour.[2] This can progress to decreased urination, loss of skin color, a fast heart rate, and a decrease in responsiveness as it becomes more severe.[2] Loose but non-watery stools in babies who are exclusively breastfed, however, are normal.[2]\n",
      "----------------------------------------------------------------------------------------------------\n",
      "MedicalCondition : loss of skin color \n",
      "MedicalCondition : Diarrhea \n",
      "MedicalCondition : watery bowel movements \n",
      "MedicalCondition : dehydration \n",
      "MedicalCondition : dehydration \n",
      "MedicalCondition : diarrhoea \n",
      "MedicalCondition : decrease in responsiveness \n",
      "MedicalCondition : fast heart rate \n",
      "----------------------------------------------------------------------------------------------------\n"
     ]
    }
   ],
   "source": [
    "# 2 example Id and its annotation\n",
    "print(\"-\"*100)\n",
    "print(f\" Id: {data['examples'][1]['id'] }\") \n",
    "print(\"-\"*100)\n",
    "print(data['examples'][1]['content'])\n",
    "print(\"-\"*100)\n",
    "# Annotations of the first Id\n",
    "for anno in data['examples'][1]['annotations']:\n",
    "    print(f\"{anno['tag_name']} : {anno['value']} \")\n",
    "print(\"-\"*100)"
   ]
  },
  {
   "cell_type": "code",
   "execution_count": 70,
   "id": "9679a6cc",
   "metadata": {},
   "outputs": [
    {
     "name": "stdout",
     "output_type": "stream",
     "text": [
      "----------------------------------------------------------------------------------------------------\n",
      " Id: d5056874-895a-4a7f-9e0f-828d414d65d9\n",
      "----------------------------------------------------------------------------------------------------\n",
      "Antiretroviral therapy (ART) is recommended for all HIV-infected individuals to reduce the risk of disease progression.\n",
      "ART also is recommended for HIV-infected individuals for the prevention of transmission of HIV.\n",
      "Patients starting ART should be willing and able to commit to treatment and understand the benefits and risks of therapy and the importance of adherence. Patients may choose to postpone therapy, and providers, on a case-by-case basis, may elect to defer therapy on the basis of clinical and/or psychosocial factors.\n",
      "----------------------------------------------------------------------------------------------------\n",
      "Medicine : Antiretroviral therapy \n",
      "Medicine : ART \n",
      "Medicine : ART \n",
      "Pathogen : HIV \n",
      "Pathogen : HIV \n",
      "Medicine : ART \n",
      "Pathogen : HIV \n",
      "----------------------------------------------------------------------------------------------------\n"
     ]
    }
   ],
   "source": [
    "# 2 example Id and its annotation\n",
    "print(\"-\"*100)\n",
    "print(f\" Id: {data['examples'][2]['id'] }\") \n",
    "print(\"-\"*100)\n",
    "print(data['examples'][2]['content'])\n",
    "print(\"-\"*100)\n",
    "# Annotations of the first Id\n",
    "for anno in data['examples'][2]['annotations']:\n",
    "    print(f\"{anno['tag_name']} : {anno['value']} \")\n",
    "print(\"-\"*100)"
   ]
  },
  {
   "cell_type": "code",
   "execution_count": 43,
   "id": "6a84ac4b",
   "metadata": {},
   "outputs": [
    {
     "name": "stdout",
     "output_type": "stream",
     "text": [
      "----------------------------------------------------------------------------------------------------\n",
      " Id: 5d1621d3-b877-4747-aceb-ecf807a6c9ec\n",
      "----------------------------------------------------------------------------------------------------\n",
      "Bacterial vaginosis is caused by bacteria that change the vaginal microbiota caused by an overgrowth of bacteria that crowd out the Lactobacilli species that maintain healthy vaginal microbial populations.\n",
      "Other non-bacterial vaginal infections include: yeast infection (candidiasis), Trichomonas vaginalis (trichomoniasis).[8][9]\n",
      "Bacterial meningitis is a bacterial inflammation of the meninges, that is, the protective membranes covering the brain and spinal cord.\n",
      "Bacterial pneumonia is a bacterial infection of the lungs.\n",
      "Urinary tract infection is predominantly caused by bacteria. Symptoms include the strong and frequent sensation or urge to urinate, pain during urination, and urine that is cloudy.[10] The main causal agent is Escherichia coli. Urine is typically sterile but contains a variety of salts, and waste products.[11] Bacteria can ascend into the bladder or kidney and causing cystitis and nephritis.\n",
      "Bacterial gastroenteritis is caused by enteric, pathogenic bacteria. These pathogenic species are usually distinct from the usually harmless bacteria of the normal gut flora. But a different strain of the same species may be pathogenic. The distinction is sometimes difficult as in the case of Escherichia.\n",
      "Bacterial skin infections include:\n",
      "Impetigo is a highly contagious bacterial skin infection commonly seen in children.[12] It is caused by Staphylococcus aureus, and Streptococcus pyogenes.[13]\n",
      "Erysipelas is an acute streptococcus bacterial infection[14] of the deeper skin layers that spreads via with lymphatic system.\n",
      "Cellulitis is a diffuse inflammation[15] of connective tissue with severe inflammation of dermal and subcutaneous layers of the skin. Cellulitis can be caused by normal skin flora or by contagious contact, and usually occurs through open skin, cuts, blisters, cracks in the skin, insect bites, animal bites, burns, surgical wounds, intravenous drug injection, or sites of intravenous catheter insertion. In most cases it is the skin on the face or lower legs that is affected, though cellulitis can occur in other tissues.\n",
      "----------------------------------------------------------------------------------------------------\n",
      "MedicalCondition : candidiasis \n",
      "Pathogen : Bacterial vaginosis \n",
      "MedicalCondition : skin infection \n",
      "Pathogen : bacteria  \n",
      "MedicalCondition : cystitis \n",
      "MedicalCondition : blisters \n",
      "MedicalCondition : Cellulitis \n",
      "MedicalCondition : pain during urination \n",
      "MedicalCondition : vaginal infections \n",
      "Pathogen : Erysipelas \n",
      "Pathogen : Staphylococcus aureus \n",
      "Pathogen : Bacterial gastroenteritis \n",
      "MedicalCondition : surgical wounds \n",
      "Pathogen : Streptococcus pyogenes \n",
      "MedicalCondition : richomonas vag \n",
      "Pathogen : bacterial inflammation \n",
      "Pathogen : Bacterial pneumonia \n",
      "MedicalCondition : yeast infection \n",
      "MedicalCondition : inflammation \n",
      "MedicalCondition : nephritis \n",
      "MedicalCondition : cracks in the skin \n",
      "Medicine : intravenous drug injection \n",
      "MedicalCondition : inflammation \n",
      "MedicalCondition : animal bites \n",
      "Pathogen : bacteria \n",
      "Medicine : intravenous catheter insertion \n",
      "MedicalCondition : Cellulitis \n",
      "MedicalCondition : inflammation  \n",
      "Pathogen : Lactobacilli \n",
      "Pathogen : Bacterial meningitis \n",
      "Pathogen : Escherichia \n",
      "Pathogen : Trichomonas vaginalis \n",
      "Pathogen : Escherichia coli \n",
      "----------------------------------------------------------------------------------------------------\n"
     ]
    }
   ],
   "source": [
    "# 2 example Id and its annotation\n",
    "print(\"-\"*100)\n",
    "print(f\" Id: {data['examples'][8]['id'] }\") \n",
    "print(\"-\"*100)\n",
    "print(data['examples'][8]['content'])\n",
    "print(\"-\"*100)\n",
    "# Annotations of the first Id\n",
    "for anno in data['examples'][8]['annotations']:\n",
    "    print(f\"{anno['tag_name']} : {anno['value']} \")\n",
    "print(\"-\"*100)"
   ]
  },
  {
   "cell_type": "code",
   "execution_count": 90,
   "id": "61255d1e",
   "metadata": {},
   "outputs": [
    {
     "name": "stdout",
     "output_type": "stream",
     "text": [
      "----------------------------------------------------------------------------------------------------\n",
      " Id: 9a0b1ede-2282-4dae-b086-638e45881bf5\n",
      "----------------------------------------------------------------------------------------------------\n",
      "Other groups of intracellular bacterial pathogens include Salmonella, Neisseria, Brucella, Mycobacterium, Nocardia, Listeria, Francisella, Legionella, and Yersinia pestis. These can exist intracellularly, but can exist outside of host cells.\n",
      "----------------------------------------------------------------------------------------------------\n",
      "Pathogen : Listeria \n",
      "Pathogen : Yersinia pestis \n",
      "Pathogen : Francisella \n",
      "Pathogen : Neisseria \n",
      "Pathogen : Legionella \n",
      "Pathogen : Nocardia \n",
      "Pathogen : Mycobacterium \n",
      "Pathogen : Brucella \n",
      "Pathogen : Salmonella \n",
      "----------------------------------------------------------------------------------------------------\n"
     ]
    }
   ],
   "source": [
    "# 2 example Id and its annotation\n",
    "print(\"-\"*100)\n",
    "print(f\" Id: {data['examples'][9]['id'] }\") \n",
    "print(\"-\"*100)\n",
    "print(data['examples'][9]['content'])\n",
    "print(\"-\"*100)\n",
    "# Annotations of the first Id\n",
    "for anno in data['examples'][9]['annotations']:\n",
    "    print(f\"{anno['tag_name']} : {anno['value']} \")\n",
    "print(\"-\"*100)"
   ]
  },
  {
   "cell_type": "code",
   "execution_count": 91,
   "id": "4c8534eb",
   "metadata": {},
   "outputs": [
    {
     "name": "stdout",
     "output_type": "stream",
     "text": [
      "----------------------------------------------------------------------------------------------------\n",
      " Id: 1cff1759-36dd-4152-8c66-45ea305dfc22\n",
      "----------------------------------------------------------------------------------------------------\n",
      "One of the bacterial diseases with the highest disease burden is tuberculosis, caused by Mycobacterium tuberculosis bacteria, which kills about 2 million people a year, mostly in sub-Saharan Africa. Pathogenic bacteria contribute to other globally important diseases, such as pneumonia, which can be caused by bacteria such as Streptococcus and Pseudomonas, and foodborne illnesses, which can be caused by bacteria such as Shigella, Campylobacter, and Salmonella. Pathogenic bacteria also cause infections such as tetanus, typhoid fever, diphtheria, syphilis, and leprosy. Pathogenic bacteria are also the cause of high infant mortality rates in developing countries.[3]\n",
      "----------------------------------------------------------------------------------------------------\n",
      "Pathogen : Streptococcus \n",
      "MedicalCondition : tetanus \n",
      "MedicalCondition :  tetanus, \n",
      "Pathogen : Campylobacter, \n",
      "Pathogen : Salmonella \n",
      "MedicalCondition : pneumonia \n",
      "MedicalCondition : typhoid fever \n",
      "MedicalCondition : leprosy \n",
      "Pathogen : Campylobacter \n",
      "MedicalCondition : diphtheria \n",
      "Pathogen : Pseudomonas \n",
      "MedicalCondition : tuberculosis \n",
      "MedicalCondition : syphilis \n",
      "MedicalCondition : yphoid fever \n",
      "Pathogen : Mycobacterium tuberculosis \n",
      "Pathogen : Shigella \n",
      "----------------------------------------------------------------------------------------------------\n"
     ]
    }
   ],
   "source": [
    "# 2 example Id and its annotation\n",
    "print(\"-\"*100)\n",
    "print(f\" Id: {data['examples'][10]['id'] }\") \n",
    "print(\"-\"*100)\n",
    "print(data['examples'][10]['content'])\n",
    "print(\"-\"*100)\n",
    "# Annotations of the first Id\n",
    "for anno in data['examples'][10]['annotations']:\n",
    "    print(f\"{anno['tag_name']} : {anno['value']} \")\n",
    "print(\"-\"*100)"
   ]
  },
  {
   "cell_type": "code",
   "execution_count": 92,
   "id": "f63fa0e1",
   "metadata": {},
   "outputs": [
    {
     "name": "stdout",
     "output_type": "stream",
     "text": [
      "----------------------------------------------------------------------------------------------------\n",
      " Id: d4fdcd57-5120-4a82-945a-1dd4b7e41204\n",
      "----------------------------------------------------------------------------------------------------\n",
      "Although the vast majority of bacteria are harmless or beneficial to one's body, a few pathogenic bacteria can cause infectious diseases. The most common bacterial disease is tuberculosis, caused by the bacterium Mycobacterium tuberculosis, which affects about 2 million people mostly in sub-Saharan Africa. Pathogenic bacteria contribute to other globally important diseases, such as pneumonia, which can be caused by bacteria such as Streptococcus and Pseudomonas, and foodborne illnesses, which can be caused by bacteria such as Shigella, Campylobacter, and Salmonella. Pathogenic bacteria also cause infections such as tetanus, typhoid fever, diphtheria, syphilis, and Hansen's disease. They typically range between 1 and 5 micrometers in length.\n",
      "----------------------------------------------------------------------------------------------------\n",
      "MedicalCondition : syphilis \n",
      "Pathogen : Streptococcus \n",
      "MedicalCondition : Hansen's disease \n",
      "Pathogen : bacteria \n",
      "Pathogen : Pseudomonas \n",
      "MedicalCondition : diphtheria \n",
      "Pathogen : pathogenic bacteria \n",
      "MedicalCondition : Campylobacte \n",
      "Pathogen : Shigella \n",
      "Pathogen : bacteria  \n",
      "Pathogen : Salmonella \n",
      "MedicalCondition : tetanus \n",
      "MedicalCondition : foodborne illnesses \n",
      "MedicalCondition : typhoid fever \n",
      "Pathogen : Campylobacter \n",
      "MedicalCondition : iphtheria, syphilis \n",
      "----------------------------------------------------------------------------------------------------\n"
     ]
    }
   ],
   "source": [
    "# 2 example Id and its annotation\n",
    "print(\"-\"*100)\n",
    "print(f\" Id: {data['examples'][11]['id'] }\") \n",
    "print(\"-\"*100)\n",
    "print(data['examples'][11]['content'])\n",
    "print(\"-\"*100)\n",
    "# Annotations of the first Id\n",
    "for anno in data['examples'][11]['annotations']:\n",
    "    print(f\"{anno['tag_name']} : {anno['value']} \")\n",
    "print(\"-\"*100)"
   ]
  },
  {
   "cell_type": "code",
   "execution_count": 93,
   "id": "db47fd20",
   "metadata": {},
   "outputs": [
    {
     "name": "stdout",
     "output_type": "stream",
     "text": [
      "----------------------------------------------------------------------------------------------------\n",
      " Id: 54e9b97d-6ee7-43d2-b67a-fb0e0153a189\n",
      "----------------------------------------------------------------------------------------------------\n",
      "However, existing data suggest that patients taking bedaquiline in addition to standard TB therapy are five times more likely to die than those without the new drug,[184] which has resulted in medical journal articles raising health policy questions about why the FDA approved the drug and whether financial ties to the company making bedaquiline influenced physicians' support for its use.[183][185]\n",
      "----------------------------------------------------------------------------------------------------\n",
      "Medicine : TB therapy \n",
      "Medicine : bedaquiline \n",
      "Medicine : bedaquiline \n",
      "----------------------------------------------------------------------------------------------------\n"
     ]
    }
   ],
   "source": [
    "# 2 example Id and its annotation\n",
    "print(\"-\"*100)\n",
    "print(f\" Id: {data['examples'][15]['id'] }\") \n",
    "print(\"-\"*100)\n",
    "print(data['examples'][15]['content'])\n",
    "print(\"-\"*100)\n",
    "# Annotations of the first Id\n",
    "for anno in data['examples'][15]['annotations']:\n",
    "    print(f\"{anno['tag_name']} : {anno['value']} \")\n",
    "print(\"-\"*100)"
   ]
  },
  {
   "cell_type": "code",
   "execution_count": 95,
   "id": "3c856f58",
   "metadata": {},
   "outputs": [
    {
     "name": "stdout",
     "output_type": "stream",
     "text": [
      "However, existing data suggest that patients taking bedaquiline in addition to standard TB therapy are five times more likely to die than those without the new drug,[184] which has resulted in medical journal articles raising health policy questions about why the FDA approved the drug and whether financial ties to the company making bedaquiline influenced physicians' support for its use.[183][185]\n"
     ]
    }
   ],
   "source": [
    "user_input=data['examples'][15]['content']\n",
    "print(user_input)"
   ]
  },
  {
   "cell_type": "code",
   "execution_count": 99,
   "id": "52a55cbf",
   "metadata": {},
   "outputs": [],
   "source": [
    "# This code is for v1 of the openai package: pypi.org/project/openai\n",
    "from openai import OpenAI\n",
    "client = OpenAI(api_key='#####')\n",
    "\n",
    "\n",
    "response = client.chat.completions.create(\n",
    "  model=\"gpt-3.5-turbo\",\n",
    "  messages=[\n",
    "    {\n",
    "      \"role\": \"system\",\n",
    "      \"content\": \"You are a natural language processing expert. You will extract the  named entity recognition from the given data and returns the results as per the given format\"\n",
    "    },\n",
    "    {\n",
    "      \"role\": \"user\",\n",
    "      \"content\": \"While bismuth compounds (Pepto-Bismol) decreased the number of bowel movements in those with travelers' diarrhea, they do not decrease the length of illness.[91] Anti-motility agents like loperamide are also effective at reducing the number of stools but not the duration of disease.[8] These agents should be used only if bloody diarrhea is not present.[92]\\n\\nDiosmectite, a natural aluminomagnesium silicate clay, is effective in alleviating symptoms of acute diarrhea in children,[93] and also has some effects in chronic functional diarrhea, radiation-induced diarrhea, and chemotherapy-induced diarrhea.[45] Another absorbent agent used for the treatment of mild diarrhea is kaopectate.\\n\\nRacecadotril an antisecretory medication may be used to treat diarrhea in children and adults.[86] It has better tolerability than loperamide, as it causes less constipation and flatulence.[94]\"\n",
    "    },\n",
    "    {\n",
    "      \"role\": \"assistant\",\n",
    "      \"content\": \"Medicine : Diosmectite \\nMedicine : aluminomagnesium silicate \\nMedicalCondition : diarrhea \\nMedicine : kaopectate \\nMedicine : bismuth compounds \\nMedicine : Pepto-Bismol \\nMedicalCondition : diarrhea  \\nMedicine : chemotherapy \\nMedicalCondition : constipation \\nMedicine : loperamide \\nMedicalCondition : diarrhea \\nMedicalCondition : flatulence \\nMedicine : loperamide \\nMedicalCondition :   \\nMedicalCondition : diarrhea \\nMedicalCondition : diarrhea \\nMedicine : Racecadotril \\nMedicalCondition : diarrhea\"\n",
    "    },\n",
    "    {\n",
    "      \"role\": \"user\",\n",
    "      \"content\": \"Diarrhea, also spelled diarrhoea, is the condition of having at least three loose, liquid, or watery bowel movements each day.[2] It often lasts for a few days and can result in dehydration due to fluid loss.[2] Signs of dehydration often begin with loss of the normal stretchiness of the skin and irritable behaviour.[2] This can progress to decreased urination, loss of skin color, a fast heart rate, and a decrease in responsiveness as it becomes more severe.[2] Loose but non-watery stools in babies who are exclusively breastfed, however, are normal.[2]\"\n",
    "    },\n",
    "    {\n",
    "      \"role\": \"assistant\",\n",
    "      \"content\": \"MedicalCondition : loss of skin color \\nMedicalCondition : Diarrhea \\nMedicalCondition : watery bowel movements \\nMedicalCondition : dehydration \\nMedicalCondition : dehydration \\nMedicalCondition : diarrhoea \\nMedicalCondition : decrease in responsiveness \\nMedicalCondition : fast heart rate \"\n",
    "    },\n",
    "    {\n",
    "      \"role\": \"user\",\n",
    "      \"content\": \"Bacterial vaginosis is caused by bacteria that change the vaginal microbiota caused by an overgrowth of bacteria that crowd out the Lactobacilli species that maintain healthy vaginal microbial populations.\\nOther non-bacterial vaginal infections include: yeast infection (candidiasis), Trichomonas vaginalis (trichomoniasis).[8][9]\\nBacterial meningitis is a bacterial inflammation of the meninges, that is, the protective membranes covering the brain and spinal cord.\\nBacterial pneumonia is a bacterial infection of the lungs.\\nUrinary tract infection is predominantly caused by bacteria. Symptoms include the strong and frequent sensation or urge to urinate, pain during urination, and urine that is cloudy.[10] The main causal agent is Escherichia coli. Urine is typically sterile but contains a variety of salts, and waste products.[11] Bacteria can ascend into the bladder or kidney and causing cystitis and nephritis.\\nBacterial gastroenteritis is caused by enteric, pathogenic bacteria. These pathogenic species are usually distinct from the usually harmless bacteria of the normal gut flora. But a different strain of the same species may be pathogenic. The distinction is sometimes difficult as in the case of Escherichia.\\nBacterial skin infections include:\\nImpetigo is a highly contagious bacterial skin infection commonly seen in children.[12] It is caused by Staphylococcus aureus, and Streptococcus pyogenes.[13]\\nErysipelas is an acute streptococcus bacterial infection[14] of the deeper skin layers that spreads via with lymphatic system.\\nCellulitis is a diffuse inflammation[15] of connective tissue with severe inflammation of dermal and subcutaneous layers of the skin. Cellulitis can be caused by normal skin flora or by contagious contact, and usually occurs through open skin, cuts, blisters, cracks in the skin, insect bites, animal bites, burns, surgical wounds, intravenous drug injection, or sites of intravenous catheter insertion. In most cases it is the skin on the face or lower legs that is affected, though cellulitis can occur in other tissues.\"\n",
    "    },\n",
    "    {\n",
    "      \"role\": \"assistant\",\n",
    "      \"content\": \"MedicalCondition : candidiasis \\nPathogen : Bacterial vaginosis \\nMedicalCondition : skin infection \\nPathogen : bacteria  \\nMedicalCondition : cystitis \\nMedicalCondition : blisters \\nMedicalCondition : Cellulitis \\nMedicalCondition : pain during urination \\nMedicalCondition : vaginal infections \\nPathogen : Erysipelas \\nPathogen : Staphylococcus aureus \\nPathogen : Bacterial gastroenteritis \\nMedicalCondition : surgical wounds \\nPathogen : Streptococcus pyogenes \\nMedicalCondition : richomonas vag \\nPathogen : bacterial inflammation \\nPathogen : Bacterial pneumonia \\nMedicalCondition : yeast infection \\nMedicalCondition : inflammation \\nMedicalCondition : nephritis \\nMedicalCondition : cracks in the skin \\nMedicine : intravenous drug injection \\nMedicalCondition : inflammation \\nMedicalCondition : animal bites \\nPathogen : bacteria \\nMedicine : intravenous catheter insertion \\nMedicalCondition : Cellulitis \\nMedicalCondition : inflammation  \\nPathogen : Lactobacilli \\nPathogen : Bacterial meningitis \\nPathogen : Escherichia \\nPathogen : Trichomonas vaginalis \\nPathogen : Escherichia coli \"\n",
    "    },\n",
    "    {\n",
    "      \"role\": \"user\",\n",
    "      \"content\": f\"{user_input}\"\n",
    "    }\n",
    "\n",
    "  ],\n",
    "  temperature=0,\n",
    "  max_tokens=256,\n",
    "  top_p=1,\n",
    "  frequency_penalty=0,\n",
    "  presence_penalty=0\n",
    ")"
   ]
  },
  {
   "cell_type": "code",
   "execution_count": 100,
   "id": "70a30ff1",
   "metadata": {},
   "outputs": [
    {
     "name": "stdout",
     "output_type": "stream",
     "text": [
      "ChatCompletion(id='chatcmpl-8T6WY69mMshGP7QO8I5DS8HqPLtXj', choices=[Choice(finish_reason='stop', index=0, message=ChatCompletionMessage(content=\"Medicine : bedaquiline \\nMedicalCondition : TB therapy \\nMedicalCondition : death \\nOrganization : FDA \\nMedicine : bedaquiline \\nOrganization : medical journal \\nMedicalCondition : health policy questions \\nOrganization : company \\nMedicine : bedaquiline \\nMedicalCondition : physicians' support \\nOrganization : FDA \\nOrganization : company\", role='assistant', function_call=None, tool_calls=None))], created=1701947282, model='gpt-3.5-turbo-0613', object='chat.completion', system_fingerprint=None, usage=CompletionUsage(completion_tokens=66, prompt_tokens=1302, total_tokens=1368))\n"
     ]
    }
   ],
   "source": [
    "print(response)"
   ]
  },
  {
   "cell_type": "code",
   "execution_count": 108,
   "id": "42cfc6cf",
   "metadata": {},
   "outputs": [
    {
     "name": "stdout",
     "output_type": "stream",
     "text": [
      "Medicine : bedaquiline \n",
      "MedicalCondition : TB therapy \n",
      "MedicalCondition : death \n",
      "Organization : FDA \n",
      "Medicine : bedaquiline \n",
      "Organization : medical journal \n",
      "MedicalCondition : health policy questions \n",
      "Organization : company \n",
      "Medicine : bedaquiline \n",
      "MedicalCondition : physicians' support \n",
      "Organization : FDA \n",
      "Organization : company\n"
     ]
    }
   ],
   "source": [
    "result=response.choices[0].message.content\n",
    "print(result)"
   ]
  },
  {
   "cell_type": "code",
   "execution_count": null,
   "id": "8c5366f2",
   "metadata": {},
   "outputs": [],
   "source": []
  }
 ],
 "metadata": {
  "kernelspec": {
   "display_name": "Python 3 (ipykernel)",
   "language": "python",
   "name": "python3"
  },
  "language_info": {
   "codemirror_mode": {
    "name": "ipython",
    "version": 3
   },
   "file_extension": ".py",
   "mimetype": "text/x-python",
   "name": "python",
   "nbconvert_exporter": "python",
   "pygments_lexer": "ipython3",
   "version": "3.9.18"
  }
 },
 "nbformat": 4,
 "nbformat_minor": 5
}
